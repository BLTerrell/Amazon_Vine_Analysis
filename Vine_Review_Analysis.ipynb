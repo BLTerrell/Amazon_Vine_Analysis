{
  "nbformat": 4,
  "nbformat_minor": 0,
  "metadata": {
    "colab": {
      "name": "Vine_Review_Analysis.ipynb",
      "provenance": []
    },
    "kernelspec": {
      "name": "python3",
      "display_name": "Python 3"
    },
    "language_info": {
      "name": "python"
    }
  },
  "cells": [
    {
      "cell_type": "code",
      "metadata": {
        "colab": {
          "base_uri": "https://localhost:8080/"
        },
        "id": "KWFe4j0yLfCE",
        "outputId": "a412e075-e2e0-430d-aee2-a66ed2b7c1f4"
      },
      "source": [
        "import os\n",
        "# Find the latest version of spark 2.0  from http://www-us.apache.org/dist/spark/ and enter as the spark version\n",
        "# For example:\n",
        "# spark_version = 'spark-3.0.0'\n",
        "spark_version = 'spark-3.1.1'\n",
        "os.environ['SPARK_VERSION']=spark_version\n",
        "\n",
        "# Install Spark and Java\n",
        "!apt-get update\n",
        "!apt-get install openjdk-11-jdk-headless -qq > /dev/null\n",
        "!wget -q http://www-us.apache.org/dist/spark/$SPARK_VERSION/$SPARK_VERSION-bin-hadoop2.7.tgz\n",
        "!tar xf $SPARK_VERSION-bin-hadoop2.7.tgz\n",
        "!pip install -q findspark\n",
        "\n",
        "# Set Environment Variables\n",
        "import os\n",
        "os.environ[\"JAVA_HOME\"] = \"/usr/lib/jvm/java-11-openjdk-amd64\"\n",
        "os.environ[\"SPARK_HOME\"] = f\"/content/{spark_version}-bin-hadoop2.7\"\n",
        "\n",
        "# Start a SparkSession\n",
        "import findspark\n",
        "findspark.init()"
      ],
      "execution_count": 2,
      "outputs": [
        {
          "output_type": "stream",
          "text": [
            "\r0% [Working]\r            \rIgn:1 https://developer.download.nvidia.com/compute/cuda/repos/ubuntu1804/x86_64  InRelease\n",
            "\r0% [Waiting for headers] [Waiting for headers] [Waiting for headers] [Waiting f\r                                                                               \rGet:2 https://cloud.r-project.org/bin/linux/ubuntu bionic-cran40/ InRelease [3,626 B]\n",
            "\r0% [Waiting for headers] [Waiting for headers] [2 InRelease 0 B/3,626 B 0%] [Wa\r0% [Waiting for headers] [Waiting for headers] [Waiting for headers] [Waiting f\r0% [2 InRelease gpgv 3,626 B] [Waiting for headers] [Waiting for headers] [Wait\r                                                                               \rGet:3 http://security.ubuntu.com/ubuntu bionic-security InRelease [88.7 kB]\n",
            "\r                                                                               \rGet:4 http://ppa.launchpad.net/c2d4u.team/c2d4u4.0+/ubuntu bionic InRelease [15.9 kB]\n",
            "\r0% [2 InRelease gpgv 3,626 B] [Waiting for headers] [3 InRelease 14.2 kB/88.7 k\r                                                                               \rIgn:5 https://developer.download.nvidia.com/compute/machine-learning/repos/ubuntu1804/x86_64  InRelease\n",
            "\r0% [2 InRelease gpgv 3,626 B] [Waiting for headers] [3 InRelease 14.2 kB/88.7 k\r                                                                               \rGet:6 https://developer.download.nvidia.com/compute/cuda/repos/ubuntu1804/x86_64  Release [697 B]\n",
            "\r0% [2 InRelease gpgv 3,626 B] [Waiting for headers] [3 InRelease 14.2 kB/88.7 k\r                                                                               \rHit:7 http://archive.ubuntu.com/ubuntu bionic InRelease\n",
            "\r0% [2 InRelease gpgv 3,626 B] [Waiting for headers] [3 InRelease 14.2 kB/88.7 k\r0% [2 InRelease gpgv 3,626 B] [Waiting for headers] [3 InRelease 14.2 kB/88.7 k\r                                                                               \rHit:8 https://developer.download.nvidia.com/compute/machine-learning/repos/ubuntu1804/x86_64  Release\n",
            "Get:9 https://developer.download.nvidia.com/compute/cuda/repos/ubuntu1804/x86_64  Release.gpg [836 B]\n",
            "Get:10 http://archive.ubuntu.com/ubuntu bionic-updates InRelease [88.7 kB]\n",
            "Hit:11 http://ppa.launchpad.net/cran/libgit2/ubuntu bionic InRelease\n",
            "Get:12 http://archive.ubuntu.com/ubuntu bionic-backports InRelease [74.6 kB]\n",
            "Hit:13 http://ppa.launchpad.net/deadsnakes/ppa/ubuntu bionic InRelease\n",
            "Hit:14 http://ppa.launchpad.net/graphics-drivers/ppa/ubuntu bionic InRelease\n",
            "Ign:16 https://developer.download.nvidia.com/compute/cuda/repos/ubuntu1804/x86_64  Packages\n",
            "Get:16 https://developer.download.nvidia.com/compute/cuda/repos/ubuntu1804/x86_64  Packages [741 kB]\n",
            "Get:17 http://ppa.launchpad.net/c2d4u.team/c2d4u4.0+/ubuntu bionic/main Sources [1,756 kB]\n",
            "Get:18 http://security.ubuntu.com/ubuntu bionic-security/multiverse amd64 Packages [24.7 kB]\n",
            "Get:19 http://security.ubuntu.com/ubuntu bionic-security/main amd64 Packages [2,116 kB]\n",
            "Get:20 http://security.ubuntu.com/ubuntu bionic-security/restricted amd64 Packages [396 kB]\n",
            "Get:21 http://archive.ubuntu.com/ubuntu bionic-updates/universe amd64 Packages [2,181 kB]\n",
            "Get:22 http://ppa.launchpad.net/c2d4u.team/c2d4u4.0+/ubuntu bionic/main amd64 Packages [899 kB]\n",
            "Get:23 http://archive.ubuntu.com/ubuntu bionic-updates/multiverse amd64 Packages [31.6 kB]\n",
            "Get:24 http://archive.ubuntu.com/ubuntu bionic-updates/restricted amd64 Packages [426 kB]\n",
            "Get:25 http://archive.ubuntu.com/ubuntu bionic-updates/main amd64 Packages [2,546 kB]\n",
            "Fetched 11.4 MB in 4s (3,179 kB/s)\n",
            "Reading package lists... Done\n"
          ],
          "name": "stdout"
        }
      ]
    },
    {
      "cell_type": "code",
      "metadata": {
        "id": "emRA8SvrLjOl"
      },
      "source": [
        "from pyspark.sql import SparkSession\n",
        "\n",
        "spark = SparkSession.builder.appName(\"VineReviewAnalysis\").getOrCreate()"
      ],
      "execution_count": 3,
      "outputs": []
    },
    {
      "cell_type": "code",
      "metadata": {
        "colab": {
          "base_uri": "https://localhost:8080/"
        },
        "id": "M3PLeuLaL2dw",
        "outputId": "9c81e7dc-49e4-4b8e-f830-896db02ec449"
      },
      "source": [
        "from pyspark import SparkFiles\n",
        "url = \"https://s3.amazonaws.com/amazon-reviews-pds/tsv/amazon_reviews_us_Major_Appliances_v1_00.tsv.gz\"\n",
        "spark.sparkContext.addFile(url)\n",
        "df = spark.read.option(\"encoding\", \"UTF-8\").csv(SparkFiles.get(\"\"), sep=\"\\t\", header=True, inferSchema=True)\n",
        "df.show()"
      ],
      "execution_count": 4,
      "outputs": [
        {
          "output_type": "stream",
          "text": [
            "+-----------+-----------+--------------+----------+--------------+--------------------+----------------+-----------+-------------+-----------+----+-----------------+--------------------+--------------------+-----------+\n",
            "|marketplace|customer_id|     review_id|product_id|product_parent|       product_title|product_category|star_rating|helpful_votes|total_votes|vine|verified_purchase|     review_headline|         review_body|review_date|\n",
            "+-----------+-----------+--------------+----------+--------------+--------------------+----------------+-----------+-------------+-----------+----+-----------------+--------------------+--------------------+-----------+\n",
            "|         US|   16199106|R203HPW78Z7N4K|B0067WNSZY|     633038551|FGGF3032MW Galler...|Major Appliances|          5|            0|          0|   N|                Y|If you need a new...|What a great stov...| 2015-08-31|\n",
            "|         US|   16374060|R2EAIGVLEALSP3|B002QSXK60|     811766671|Best Hand Clothes...|Major Appliances|          5|            1|          1|   N|                Y|          Five Stars|        worked great| 2015-08-31|\n",
            "|         US|   15322085|R1K1CD73HHLILA|B00EC452R6|     345562728|Supco SET184 Ther...|Major Appliances|          5|            0|          0|   N|                Y|       Fast Shipping|Part exactly what...| 2015-08-31|\n",
            "|         US|   32004835|R2KZBMOFRMYOPO|B00MVVIF2G|     563052763|Midea WHS-160RB1 ...|Major Appliances|          5|            1|          1|   N|                Y|          Five Stars|Love my refrigera...| 2015-08-31|\n",
            "|         US|   25414497| R6BIZOZY6UD01|B00IY7BNUW|     874236579|Avalon Bay Portab...|Major Appliances|          5|            0|          0|   N|                Y|          Five Stars|No more running t...| 2015-08-31|\n",
            "|         US|   36311751|R1MCXZFNF8E7Y0|B0033X29CI|     294467812|Danby  Freestandi...|Major Appliances|          1|            0|          0|   N|                Y|       Piece of Junk|It would not cool...| 2015-08-31|\n",
            "|         US|   30920961|R3EMB3E3ODR6BW|B005R597HA|     183784715|Avanti 110-Volt A...|Major Appliances|          5|            2|          2|   N|                Y|Works awesome for...|Works awesome for...| 2015-08-31|\n",
            "|         US|   52491265| RJTONVTTOPJ5S|B00MO6V8Y0|     960251524|      Danby products|Major Appliances|          5|            0|          0|   N|                Y|          Five Stars|exactly what I wa...| 2015-08-31|\n",
            "|         US|   48166169|R21U5QZ2CQECUM|B00HT39QDI|     992475314|3 Pack Tier1 MSWF...|Major Appliances|          4|            0|          0|   N|                Y|          Four Stars|       AS advertised| 2015-08-31|\n",
            "|         US|   50394924| RL2BBC51H89DH|B00LESFZ52|       1641606|True TSSU-60-16 6...|Major Appliances|          4|            0|          0|   N|                Y|but has poor insu...|It works as adver...| 2015-08-31|\n",
            "|         US|    3915552|R3RNEPHF3WIRSZ|B0149IJVPI|     838108342|Magic: the Gather...|Major Appliances|          2|            0|          0|   N|                N|           Two Stars|it's not worth 22...| 2015-08-31|\n",
            "|         US|   17068589|R38DNT9KML2PF3|B002HT0958|     387104338|Mini Portable Cou...|Major Appliances|          5|            0|          0|   N|                Y| Love it for camping|Wonderful! It spi...| 2015-08-31|\n",
            "|         US|   52081068|R2ECMBJM8KNNC8|B006WOBNX6|     180688127|1 X Dishwasher Ra...|Major Appliances|          4|            0|          0|   N|                Y|          Four Stars|Did the job but d...| 2015-08-31|\n",
            "|         US|   13783713|R2F3F92PRN9T7S|B00NLPMOU0|     570132358|Watson 1.5 ft AC ...|Major Appliances|          5|            0|          0|   N|                Y|Very well satisfied.|Arrived on time a...| 2015-08-31|\n",
            "|         US|   14555366|R35XNT88XVEMK6|B00KJ07SEM|     313983847|GE MWF SmartWater...|Major Appliances|          5|            1|          1|   N|                Y|          Five Stars|               Super| 2015-08-31|\n",
            "|         US|   48417244| RZRXLHQS71FUP|B001AT2ALM|     364403440|Koldfront Ultra C...|Major Appliances|          4|            1|          1|   N|                Y|          Four Stars|Looking forward t...| 2015-08-31|\n",
            "|         US|   19010760|R3J9T4MZRAURV5|B00JG8B42K|     672722354|OnePurify RFC0800...|Major Appliances|          1|            0|          0|   N|                Y|     dont waste your|cheap knock-off. ...| 2015-08-31|\n",
            "|         US|   43532555|R3CLDHHI0ZSQLO|B00FRJ5EWS|     137548022|2016 Life Water I...|Major Appliances|          5|            1|          2|   N|                N|       Great Product|My wife is lookin...| 2015-08-31|\n",
            "|         US|   21879631| RY52KZABZK8QF|B0052G14E8|     423421857|Danby 0.7 cu.ft. ...|Major Appliances|          1|            0|          0|   N|                Y|Do not recommend ...|3 of the buttons ...| 2015-08-31|\n",
            "|         US|     810098|R25RXV5X29M3UC|B00LOVVE9A|     386722389|SPT UF-304SS Ener...|Major Appliances|          4|            0|          1|   N|                Y|          Four Stars|     So far so good.| 2015-08-31|\n",
            "+-----------+-----------+--------------+----------+--------------+--------------------+----------------+-----------+-------------+-----------+----+-----------------+--------------------+--------------------+-----------+\n",
            "only showing top 20 rows\n",
            "\n"
          ],
          "name": "stdout"
        }
      ]
    },
    {
      "cell_type": "code",
      "metadata": {
        "colab": {
          "base_uri": "https://localhost:8080/"
        },
        "id": "EF2NZCA8L_z2",
        "outputId": "74ea9a8f-dc6d-4fa0-dd28-8664ff03eb57"
      },
      "source": [
        "# Create the vine_table. DataFrame\n",
        "vine_df = df.select([\"review_id\",\"star_rating\",\"helpful_votes\",\"total_votes\",\"vine\",\"verified_purchase\"])\n",
        "vine_df.show()"
      ],
      "execution_count": 5,
      "outputs": [
        {
          "output_type": "stream",
          "text": [
            "+--------------+-----------+-------------+-----------+----+-----------------+\n",
            "|     review_id|star_rating|helpful_votes|total_votes|vine|verified_purchase|\n",
            "+--------------+-----------+-------------+-----------+----+-----------------+\n",
            "|R203HPW78Z7N4K|          5|            0|          0|   N|                Y|\n",
            "|R2EAIGVLEALSP3|          5|            1|          1|   N|                Y|\n",
            "|R1K1CD73HHLILA|          5|            0|          0|   N|                Y|\n",
            "|R2KZBMOFRMYOPO|          5|            1|          1|   N|                Y|\n",
            "| R6BIZOZY6UD01|          5|            0|          0|   N|                Y|\n",
            "|R1MCXZFNF8E7Y0|          1|            0|          0|   N|                Y|\n",
            "|R3EMB3E3ODR6BW|          5|            2|          2|   N|                Y|\n",
            "| RJTONVTTOPJ5S|          5|            0|          0|   N|                Y|\n",
            "|R21U5QZ2CQECUM|          4|            0|          0|   N|                Y|\n",
            "| RL2BBC51H89DH|          4|            0|          0|   N|                Y|\n",
            "|R3RNEPHF3WIRSZ|          2|            0|          0|   N|                N|\n",
            "|R38DNT9KML2PF3|          5|            0|          0|   N|                Y|\n",
            "|R2ECMBJM8KNNC8|          4|            0|          0|   N|                Y|\n",
            "|R2F3F92PRN9T7S|          5|            0|          0|   N|                Y|\n",
            "|R35XNT88XVEMK6|          5|            1|          1|   N|                Y|\n",
            "| RZRXLHQS71FUP|          4|            1|          1|   N|                Y|\n",
            "|R3J9T4MZRAURV5|          1|            0|          0|   N|                Y|\n",
            "|R3CLDHHI0ZSQLO|          5|            1|          2|   N|                N|\n",
            "| RY52KZABZK8QF|          1|            0|          0|   N|                Y|\n",
            "|R25RXV5X29M3UC|          4|            0|          1|   N|                Y|\n",
            "+--------------+-----------+-------------+-----------+----+-----------------+\n",
            "only showing top 20 rows\n",
            "\n"
          ],
          "name": "stdout"
        }
      ]
    },
    {
      "cell_type": "code",
      "metadata": {
        "id": "Hs4soQJIMD8F",
        "colab": {
          "base_uri": "https://localhost:8080/"
        },
        "outputId": "6eb32f2a-727a-4bb0-e669-d8c044203aef"
      },
      "source": [
        "# Filter the data and create a new DataFrame or table to retrieve all the rows where the total_votes count is equal to \n",
        "# or greater than 20 to pick reviews that are more likely to be helpful and to avoid having division by zero errors later on\n",
        "greater_than_20_df = vine_df.filter(\"total_votes >= 20\")\n",
        "greater_than_20_df.show()"
      ],
      "execution_count": 7,
      "outputs": [
        {
          "output_type": "stream",
          "text": [
            "+--------------+-----------+-------------+-----------+----+-----------------+\n",
            "|     review_id|star_rating|helpful_votes|total_votes|vine|verified_purchase|\n",
            "+--------------+-----------+-------------+-----------+----+-----------------+\n",
            "|R1QXNQBTH7LIUB|          3|            9|         22|   N|                Y|\n",
            "|R3BC75VKJK6LNV|          4|           83|         89|   N|                Y|\n",
            "| R5XKK92G5N9FU|          1|           18|         22|   N|                N|\n",
            "| RYMOWYW38WKOB|          5|           35|         35|   N|                N|\n",
            "| RYHZAVESD0T37|          1|           39|         45|   N|                Y|\n",
            "|R19Y5VBOF3BQOG|          1|           26|         35|   N|                Y|\n",
            "| R8V9F3139Z1WZ|          1|           30|         34|   N|                N|\n",
            "|R3RNY5OLY451GS|          1|           25|         30|   N|                Y|\n",
            "|R16LPVYSJOAH1T|          1|           20|         20|   N|                N|\n",
            "|R2NLL7ISMM5QYQ|          4|           89|         94|   N|                Y|\n",
            "|R3FAFI6Q0YL37W|          1|           30|         35|   N|                Y|\n",
            "|R1A4JVOP7N5Q1K|          5|           28|         30|   N|                Y|\n",
            "|R30E25MXKEP9BP|          4|           36|         37|   N|                Y|\n",
            "|R2FMLYX388LR2Y|          5|           28|         33|   N|                Y|\n",
            "| R1EGFDXPYGROC|          5|           28|         32|   N|                Y|\n",
            "|R2DCZYJZRF0V2O|          5|           26|         28|   N|                Y|\n",
            "|R3QNOR0K43XLWB|          5|           41|         41|   N|                N|\n",
            "| RPNUNJJZLD11P|          1|           26|         27|   N|                N|\n",
            "|R39VRWWZWAHBPH|          1|           15|         21|   N|                Y|\n",
            "| RU7XNN9EC8V8X|          1|           31|         36|   N|                Y|\n",
            "+--------------+-----------+-------------+-----------+----+-----------------+\n",
            "only showing top 20 rows\n",
            "\n"
          ],
          "name": "stdout"
        }
      ]
    },
    {
      "cell_type": "code",
      "metadata": {
        "id": "RgU6REjxMe3F",
        "colab": {
          "base_uri": "https://localhost:8080/"
        },
        "outputId": "45919999-f996-4c53-946e-d51ba1349775"
      },
      "source": [
        "# Filter the new DataFrame or table created in Step 1 and create a new DataFrame or table to retrieve all the rows where \n",
        "# the number of helpful_votes divided by total_votes is equal to or greater than 50%\n",
        "helpful_df = greater_than_20_df.filter(\"(helpful_votes / total_votes) >= 0.5 \")\n",
        "helpful_df.show()"
      ],
      "execution_count": 9,
      "outputs": [
        {
          "output_type": "stream",
          "text": [
            "+--------------+-----------+-------------+-----------+----+-----------------+\n",
            "|     review_id|star_rating|helpful_votes|total_votes|vine|verified_purchase|\n",
            "+--------------+-----------+-------------+-----------+----+-----------------+\n",
            "|R3BC75VKJK6LNV|          4|           83|         89|   N|                Y|\n",
            "| R5XKK92G5N9FU|          1|           18|         22|   N|                N|\n",
            "| RYMOWYW38WKOB|          5|           35|         35|   N|                N|\n",
            "| RYHZAVESD0T37|          1|           39|         45|   N|                Y|\n",
            "|R19Y5VBOF3BQOG|          1|           26|         35|   N|                Y|\n",
            "| R8V9F3139Z1WZ|          1|           30|         34|   N|                N|\n",
            "|R3RNY5OLY451GS|          1|           25|         30|   N|                Y|\n",
            "|R16LPVYSJOAH1T|          1|           20|         20|   N|                N|\n",
            "|R2NLL7ISMM5QYQ|          4|           89|         94|   N|                Y|\n",
            "|R3FAFI6Q0YL37W|          1|           30|         35|   N|                Y|\n",
            "|R1A4JVOP7N5Q1K|          5|           28|         30|   N|                Y|\n",
            "|R30E25MXKEP9BP|          4|           36|         37|   N|                Y|\n",
            "|R2FMLYX388LR2Y|          5|           28|         33|   N|                Y|\n",
            "| R1EGFDXPYGROC|          5|           28|         32|   N|                Y|\n",
            "|R2DCZYJZRF0V2O|          5|           26|         28|   N|                Y|\n",
            "|R3QNOR0K43XLWB|          5|           41|         41|   N|                N|\n",
            "| RPNUNJJZLD11P|          1|           26|         27|   N|                N|\n",
            "|R39VRWWZWAHBPH|          1|           15|         21|   N|                Y|\n",
            "| RU7XNN9EC8V8X|          1|           31|         36|   N|                Y|\n",
            "|R2ZU7AC8QSDUOB|          4|           41|         44|   N|                Y|\n",
            "+--------------+-----------+-------------+-----------+----+-----------------+\n",
            "only showing top 20 rows\n",
            "\n"
          ],
          "name": "stdout"
        }
      ]
    },
    {
      "cell_type": "code",
      "metadata": {
        "id": "l4KHdeduMizL",
        "colab": {
          "base_uri": "https://localhost:8080/"
        },
        "outputId": "9fd4f0df-7124-4d82-ae9a-46d14e3675f8"
      },
      "source": [
        "# Filter the DataFrame or table created in Step 2, and create a new DataFrame or table that retrieves all the rows where a review\n",
        "# was written as part of the Vine program (paid), vine == 'Y'.\n",
        "vine_true_df = helpful_df.filter(\"vine == 'Y'\")\n",
        "vine_true_df.show()"
      ],
      "execution_count": 10,
      "outputs": [
        {
          "output_type": "stream",
          "text": [
            "+--------------+-----------+-------------+-----------+----+-----------------+\n",
            "|     review_id|star_rating|helpful_votes|total_votes|vine|verified_purchase|\n",
            "+--------------+-----------+-------------+-----------+----+-----------------+\n",
            "|R20O97P5V9CZ21|          3|           21|         27|   Y|                N|\n",
            "| RCNB7YGLWKCV5|          5|           23|         30|   Y|                N|\n",
            "| RX1ZUVGBH3HKC|          5|          814|        848|   Y|                N|\n",
            "| RRS5AGL10DYU3|          3|           25|         29|   Y|                N|\n",
            "| R5YFC5G8V2B3I|          5|          104|        117|   Y|                N|\n",
            "|R1IDQ0G1S7J9TN|          5|          178|        196|   Y|                N|\n",
            "| RKXNZX22HQZEE|          3|          182|        192|   Y|                N|\n",
            "|R2K45IY0NO70ZI|          5|          116|        122|   Y|                N|\n",
            "| RQXRI4UKDX877|          5|           20|         24|   Y|                N|\n",
            "|R1L2R8OHO171YG|          5|           66|         68|   Y|                N|\n",
            "|R15NQCQUNOSI4U|          4|           19|         22|   Y|                N|\n",
            "|R37J6VNSC5TZVS|          4|           19|         22|   Y|                N|\n",
            "|R3F1V21FOEIEKN|          4|           30|         33|   Y|                N|\n",
            "|R2SQ2O06PRCM9D|          5|           28|         31|   Y|                N|\n",
            "| RX7QEPPDUZLO7|          4|           18|         20|   Y|                N|\n",
            "|R1B3OGO36CJKDA|          5|           15|         20|   Y|                Y|\n",
            "|R2SIOD5SIH2LJN|          4|           25|         31|   Y|                N|\n",
            "| R9J3GG1IL1KWC|          5|          158|        164|   Y|                N|\n",
            "| RPGPLUGTQP80H|          4|           17|         20|   Y|                N|\n",
            "|R2ACH3HF5VUWGD|          4|           76|         78|   Y|                N|\n",
            "+--------------+-----------+-------------+-----------+----+-----------------+\n",
            "only showing top 20 rows\n",
            "\n"
          ],
          "name": "stdout"
        }
      ]
    },
    {
      "cell_type": "code",
      "metadata": {
        "id": "TyCIrKNUMhP0",
        "colab": {
          "base_uri": "https://localhost:8080/"
        },
        "outputId": "78e6e33f-4e01-40e4-9a8a-5619cc760ae9"
      },
      "source": [
        "# Repeat Step 3, but this time retrieve all the rows where the review was not part of the Vine program (unpaid), vine == 'N'.\n",
        "vine_false_df = helpful_df.filter(\"vine == 'N'\")\n",
        "vine_false_df.show()"
      ],
      "execution_count": 11,
      "outputs": [
        {
          "output_type": "stream",
          "text": [
            "+--------------+-----------+-------------+-----------+----+-----------------+\n",
            "|     review_id|star_rating|helpful_votes|total_votes|vine|verified_purchase|\n",
            "+--------------+-----------+-------------+-----------+----+-----------------+\n",
            "|R3BC75VKJK6LNV|          4|           83|         89|   N|                Y|\n",
            "| R5XKK92G5N9FU|          1|           18|         22|   N|                N|\n",
            "| RYMOWYW38WKOB|          5|           35|         35|   N|                N|\n",
            "| RYHZAVESD0T37|          1|           39|         45|   N|                Y|\n",
            "|R19Y5VBOF3BQOG|          1|           26|         35|   N|                Y|\n",
            "| R8V9F3139Z1WZ|          1|           30|         34|   N|                N|\n",
            "|R3RNY5OLY451GS|          1|           25|         30|   N|                Y|\n",
            "|R16LPVYSJOAH1T|          1|           20|         20|   N|                N|\n",
            "|R2NLL7ISMM5QYQ|          4|           89|         94|   N|                Y|\n",
            "|R3FAFI6Q0YL37W|          1|           30|         35|   N|                Y|\n",
            "|R1A4JVOP7N5Q1K|          5|           28|         30|   N|                Y|\n",
            "|R30E25MXKEP9BP|          4|           36|         37|   N|                Y|\n",
            "|R2FMLYX388LR2Y|          5|           28|         33|   N|                Y|\n",
            "| R1EGFDXPYGROC|          5|           28|         32|   N|                Y|\n",
            "|R2DCZYJZRF0V2O|          5|           26|         28|   N|                Y|\n",
            "|R3QNOR0K43XLWB|          5|           41|         41|   N|                N|\n",
            "| RPNUNJJZLD11P|          1|           26|         27|   N|                N|\n",
            "|R39VRWWZWAHBPH|          1|           15|         21|   N|                Y|\n",
            "| RU7XNN9EC8V8X|          1|           31|         36|   N|                Y|\n",
            "|R2ZU7AC8QSDUOB|          4|           41|         44|   N|                Y|\n",
            "+--------------+-----------+-------------+-----------+----+-----------------+\n",
            "only showing top 20 rows\n",
            "\n"
          ],
          "name": "stdout"
        }
      ]
    },
    {
      "cell_type": "code",
      "metadata": {
        "id": "RIKKFr_UMiAi"
      },
      "source": [
        "# Determine the total number of reviews, the number of 5-star reviews, and the percentage of 5-star reviews\n",
        "# for the two types of review (paid vs unpaid).\n"
      ],
      "execution_count": null,
      "outputs": []
    },
    {
      "cell_type": "code",
      "metadata": {
        "id": "boXd4rsfMhwP"
      },
      "source": [
        "unpaid_five_star_count = vine_false_df.filter(\"star_rating == '5'\").agg({\"star_rating\" : \"count\"})\\\n",
        ".withColumnRenamed(\"count(star_rating)\",\"five_star_count\")\n",
        "\n",
        "unpaid_total_reviews = vine_false_df.agg({\"vine\" : \"count\"}).withColumnRenamed(\"count(vine)\",\"total_reviews\")\n"
      ],
      "execution_count": 39,
      "outputs": []
    },
    {
      "cell_type": "code",
      "metadata": {
        "colab": {
          "base_uri": "https://localhost:8080/"
        },
        "id": "DPdtIrh7cqF9",
        "outputId": "1924ae54-0cbd-4f72-e271-db9ce620a4ee"
      },
      "source": [
        "unpaid_df = unpaid_five_star_count.join(unpaid_total_reviews)\n",
        "unpaid_df = unpaid_df.withColumn('five_star_percentage', unpaid_df['five_star_count'] / unpaid_df['total_reviews'])\n",
        "\n",
        "unpaid_df.show()"
      ],
      "execution_count": 43,
      "outputs": [
        {
          "output_type": "stream",
          "text": [
            "+---------------+-------------+--------------------+\n",
            "|five_star_count|total_reviews|five_star_percentage|\n",
            "+---------------+-------------+--------------------+\n",
            "|           1963|         4957|  0.3960056485777688|\n",
            "+---------------+-------------+--------------------+\n",
            "\n"
          ],
          "name": "stdout"
        }
      ]
    },
    {
      "cell_type": "code",
      "metadata": {
        "colab": {
          "base_uri": "https://localhost:8080/"
        },
        "id": "n4OsZllCnN33",
        "outputId": "1ea06d4c-c0c3-424e-eaaa-6ac04c33244f"
      },
      "source": [
        "paid_five_star_count = vine_true_df.filter(\"star_rating == '5'\").agg({\"star_rating\" : \"count\"})\\\n",
        ".withColumnRenamed(\"count(star_rating)\",\"five_star_count\")\n",
        "\n",
        "paid_total_reviews = vine_true_df.agg({\"vine\" : \"count\"}).withColumnRenamed(\"count(vine)\",\"total_reviews\")\n",
        "\n",
        "paid_df = paid_five_star_count.join(paid_total_reviews)\n",
        "\n",
        "paid_df = paid_df.withColumn('five_star_percentage', paid_df['five_star_count'] / paid_df['total_reviews'])\n",
        "\n",
        "paid_df.show()"
      ],
      "execution_count": 46,
      "outputs": [
        {
          "output_type": "stream",
          "text": [
            "+---------------+-------------+--------------------+\n",
            "|five_star_count|total_reviews|five_star_percentage|\n",
            "+---------------+-------------+--------------------+\n",
            "|             18|           35|  0.5142857142857142|\n",
            "+---------------+-------------+--------------------+\n",
            "\n"
          ],
          "name": "stdout"
        }
      ]
    },
    {
      "cell_type": "code",
      "metadata": {
        "id": "e8RxKt3gpQDn"
      },
      "source": [
        ""
      ],
      "execution_count": null,
      "outputs": []
    }
  ]
}